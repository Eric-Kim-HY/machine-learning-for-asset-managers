{
 "cells": [
  {
   "cell_type": "markdown",
   "metadata": {},
   "source": [
    "## SNIPPET 6.1 Generating a Set of Informed, Redundant, and Noise Explanatory Variables"
   ]
  },
  {
   "cell_type": "code",
   "execution_count": 5,
   "metadata": {},
   "outputs": [],
   "source": [
    "import numpy as np\n",
    "import pandas as pd\n",
    "import seaborn as sns\n",
    "from matplotlib import pyplot as plt\n",
    "import statsmodels.discrete.discrete_model as sm\n"
   ]
  },
  {
   "cell_type": "code",
   "execution_count": 6,
   "metadata": {},
   "outputs": [],
   "source": [
    "def getTestData(n_features=100, n_informative=25, n_redundant=25, n_samples=10000, random_state=0, sigmaStd=0.) :\n",
    "    # Generate a random dataset for a claasification problem\n",
    "    \n",
    "    from sklearn.datasets import make_classification\n",
    "    np.random.seed(random_state)\n",
    "    \n",
    "    X, y = make_classification(n_samples = n_samples,\n",
    "                                n_features = n_features - n_redundant, \n",
    "                                n_informative = n_informative, \n",
    "                                n_redundant = 0,\n",
    "                                shuffle = False,\n",
    "                                random_state = random_state)\n",
    "    \n",
    "    cols = ['I_'+str(i) for i in range(n_informative)]\n",
    "    cols += ['N_' + str(i) for i in range(n_features - n_informative - n_redundant)]\n",
    "    \n",
    "    X, y = pd.DataFrame(X, columns = cols), pd.Series(y)\n",
    "    \n",
    "    i = np.random.choice(range(n_informative), size = n_redundant)\n",
    "    \n",
    "    for k,j in enumerate(i) :\n",
    "        X['R_' + str(k)] = X['I_' + str(j)] + np.random.normal(size = X.shape[0]) * sigmaStd\n",
    "        \n",
    "    return X, y\n"
   ]
  },
  {
   "cell_type": "code",
   "execution_count": 7,
   "metadata": {},
   "outputs": [
    {
     "name": "stdout",
     "output_type": "stream",
     "text": [
      "Optimization terminated successfully.\n",
      "         Current function value: 0.380271\n",
      "         Iterations 7\n"
     ]
    },
    {
     "data": {
      "text/html": [
       "<table class=\"simpletable\">\n",
       "<caption>Logit Regression Results</caption>\n",
       "<tr>\n",
       "  <th>Dep. Variable:</th>           <td>y</td>        <th>  No. Observations:  </th>  <td> 10000</td> \n",
       "</tr>\n",
       "<tr>\n",
       "  <th>Model:</th>                 <td>Logit</td>      <th>  Df Residuals:      </th>  <td>  9960</td> \n",
       "</tr>\n",
       "<tr>\n",
       "  <th>Method:</th>                 <td>MLE</td>       <th>  Df Model:          </th>  <td>    39</td> \n",
       "</tr>\n",
       "<tr>\n",
       "  <th>Date:</th>            <td>Tue, 04 Aug 2020</td> <th>  Pseudo R-squ.:     </th>  <td>0.4514</td> \n",
       "</tr>\n",
       "<tr>\n",
       "  <th>Time:</th>                <td>10:41:21</td>     <th>  Log-Likelihood:    </th> <td> -3802.7</td>\n",
       "</tr>\n",
       "<tr>\n",
       "  <th>converged:</th>             <td>True</td>       <th>  LL-Null:           </th> <td> -6931.5</td>\n",
       "</tr>\n",
       "<tr>\n",
       "  <th>Covariance Type:</th>     <td>nonrobust</td>    <th>  LLR p-value:       </th>  <td> 0.000</td> \n",
       "</tr>\n",
       "</table>\n",
       "<table class=\"simpletable\">\n",
       "<tr>\n",
       "    <td></td>      <th>coef</th>     <th>std err</th>      <th>z</th>      <th>P>|z|</th>  <th>[0.025</th>    <th>0.975]</th>  \n",
       "</tr>\n",
       "<tr>\n",
       "  <th>I_0</th>  <td>    1.5619</td> <td>    0.814</td> <td>    1.918</td> <td> 0.055</td> <td>   -0.034</td> <td>    3.158</td>\n",
       "</tr>\n",
       "<tr>\n",
       "  <th>I_1</th>  <td>   -2.3691</td> <td>    0.709</td> <td>   -3.343</td> <td> 0.001</td> <td>   -3.758</td> <td>   -0.980</td>\n",
       "</tr>\n",
       "<tr>\n",
       "  <th>I_2</th>  <td>    0.8641</td> <td>    0.504</td> <td>    1.715</td> <td> 0.086</td> <td>   -0.123</td> <td>    1.851</td>\n",
       "</tr>\n",
       "<tr>\n",
       "  <th>I_3</th>  <td>    1.8296</td> <td>    0.860</td> <td>    2.128</td> <td> 0.033</td> <td>    0.145</td> <td>    3.514</td>\n",
       "</tr>\n",
       "<tr>\n",
       "  <th>I_4</th>  <td>   -0.4776</td> <td>    0.567</td> <td>   -0.842</td> <td> 0.400</td> <td>   -1.590</td> <td>    0.635</td>\n",
       "</tr>\n",
       "<tr>\n",
       "  <th>N_0</th>  <td>    0.0244</td> <td>    0.028</td> <td>    0.857</td> <td> 0.391</td> <td>   -0.031</td> <td>    0.080</td>\n",
       "</tr>\n",
       "<tr>\n",
       "  <th>N_1</th>  <td>   -0.0485</td> <td>    0.029</td> <td>   -1.671</td> <td> 0.095</td> <td>   -0.105</td> <td>    0.008</td>\n",
       "</tr>\n",
       "<tr>\n",
       "  <th>N_2</th>  <td>    0.0367</td> <td>    0.029</td> <td>    1.262</td> <td> 0.207</td> <td>   -0.020</td> <td>    0.094</td>\n",
       "</tr>\n",
       "<tr>\n",
       "  <th>N_3</th>  <td>   -0.0205</td> <td>    0.029</td> <td>   -0.706</td> <td> 0.480</td> <td>   -0.077</td> <td>    0.036</td>\n",
       "</tr>\n",
       "<tr>\n",
       "  <th>N_4</th>  <td>   -0.0421</td> <td>    0.029</td> <td>   -1.459</td> <td> 0.145</td> <td>   -0.099</td> <td>    0.014</td>\n",
       "</tr>\n",
       "<tr>\n",
       "  <th>R_0</th>  <td>    0.0271</td> <td>    0.287</td> <td>    0.094</td> <td> 0.925</td> <td>   -0.535</td> <td>    0.589</td>\n",
       "</tr>\n",
       "<tr>\n",
       "  <th>R_1</th>  <td>   -0.0619</td> <td>    0.286</td> <td>   -0.216</td> <td> 0.829</td> <td>   -0.623</td> <td>    0.499</td>\n",
       "</tr>\n",
       "<tr>\n",
       "  <th>R_2</th>  <td>    0.1759</td> <td>    0.286</td> <td>    0.616</td> <td> 0.538</td> <td>   -0.384</td> <td>    0.736</td>\n",
       "</tr>\n",
       "<tr>\n",
       "  <th>R_3</th>  <td>   -0.3816</td> <td>    0.288</td> <td>   -1.326</td> <td> 0.185</td> <td>   -0.946</td> <td>    0.182</td>\n",
       "</tr>\n",
       "<tr>\n",
       "  <th>R_4</th>  <td>   -0.0886</td> <td>    0.289</td> <td>   -0.307</td> <td> 0.759</td> <td>   -0.655</td> <td>    0.478</td>\n",
       "</tr>\n",
       "<tr>\n",
       "  <th>R_5</th>  <td>    0.0035</td> <td>    0.286</td> <td>    0.012</td> <td> 0.990</td> <td>   -0.556</td> <td>    0.563</td>\n",
       "</tr>\n",
       "<tr>\n",
       "  <th>R_6</th>  <td>   -0.1685</td> <td>    0.287</td> <td>   -0.587</td> <td> 0.557</td> <td>   -0.732</td> <td>    0.395</td>\n",
       "</tr>\n",
       "<tr>\n",
       "  <th>R_7</th>  <td>   -0.0064</td> <td>    0.287</td> <td>   -0.022</td> <td> 0.982</td> <td>   -0.570</td> <td>    0.557</td>\n",
       "</tr>\n",
       "<tr>\n",
       "  <th>R_8</th>  <td>   -0.3122</td> <td>    0.289</td> <td>   -1.080</td> <td> 0.280</td> <td>   -0.879</td> <td>    0.255</td>\n",
       "</tr>\n",
       "<tr>\n",
       "  <th>R_9</th>  <td>   -0.4787</td> <td>    0.292</td> <td>   -1.637</td> <td> 0.102</td> <td>   -1.052</td> <td>    0.094</td>\n",
       "</tr>\n",
       "<tr>\n",
       "  <th>R_10</th> <td>   -0.2420</td> <td>    0.288</td> <td>   -0.840</td> <td> 0.401</td> <td>   -0.807</td> <td>    0.323</td>\n",
       "</tr>\n",
       "<tr>\n",
       "  <th>R_11</th> <td>    0.2955</td> <td>    0.286</td> <td>    1.034</td> <td> 0.301</td> <td>   -0.265</td> <td>    0.856</td>\n",
       "</tr>\n",
       "<tr>\n",
       "  <th>R_12</th> <td>   -0.0285</td> <td>    0.296</td> <td>   -0.096</td> <td> 0.923</td> <td>   -0.609</td> <td>    0.552</td>\n",
       "</tr>\n",
       "<tr>\n",
       "  <th>R_13</th> <td>    0.3914</td> <td>    0.288</td> <td>    1.360</td> <td> 0.174</td> <td>   -0.173</td> <td>    0.955</td>\n",
       "</tr>\n",
       "<tr>\n",
       "  <th>R_14</th> <td>   -0.2370</td> <td>    0.290</td> <td>   -0.817</td> <td> 0.414</td> <td>   -0.805</td> <td>    0.331</td>\n",
       "</tr>\n",
       "<tr>\n",
       "  <th>R_15</th> <td>    0.1278</td> <td>    0.292</td> <td>    0.438</td> <td> 0.661</td> <td>   -0.444</td> <td>    0.699</td>\n",
       "</tr>\n",
       "<tr>\n",
       "  <th>R_16</th> <td>   -0.1507</td> <td>    0.290</td> <td>   -0.520</td> <td> 0.603</td> <td>   -0.719</td> <td>    0.417</td>\n",
       "</tr>\n",
       "<tr>\n",
       "  <th>R_17</th> <td>   -0.5064</td> <td>    0.288</td> <td>   -1.757</td> <td> 0.079</td> <td>   -1.071</td> <td>    0.059</td>\n",
       "</tr>\n",
       "<tr>\n",
       "  <th>R_18</th> <td>    0.2050</td> <td>    0.288</td> <td>    0.711</td> <td> 0.477</td> <td>   -0.360</td> <td>    0.770</td>\n",
       "</tr>\n",
       "<tr>\n",
       "  <th>R_19</th> <td>   -0.0950</td> <td>    0.288</td> <td>   -0.330</td> <td> 0.741</td> <td>   -0.659</td> <td>    0.469</td>\n",
       "</tr>\n",
       "<tr>\n",
       "  <th>R_20</th> <td>   -0.2437</td> <td>    0.286</td> <td>   -0.851</td> <td> 0.395</td> <td>   -0.805</td> <td>    0.317</td>\n",
       "</tr>\n",
       "<tr>\n",
       "  <th>R_21</th> <td>   -0.0479</td> <td>    0.293</td> <td>   -0.163</td> <td> 0.870</td> <td>   -0.623</td> <td>    0.527</td>\n",
       "</tr>\n",
       "<tr>\n",
       "  <th>R_22</th> <td>    0.1300</td> <td>    0.287</td> <td>    0.452</td> <td> 0.651</td> <td>   -0.433</td> <td>    0.693</td>\n",
       "</tr>\n",
       "<tr>\n",
       "  <th>R_23</th> <td>    0.4978</td> <td>    0.291</td> <td>    1.713</td> <td> 0.087</td> <td>   -0.072</td> <td>    1.067</td>\n",
       "</tr>\n",
       "<tr>\n",
       "  <th>R_24</th> <td>   -0.2049</td> <td>    0.290</td> <td>   -0.706</td> <td> 0.480</td> <td>   -0.774</td> <td>    0.364</td>\n",
       "</tr>\n",
       "<tr>\n",
       "  <th>R_25</th> <td>   -0.0985</td> <td>    0.289</td> <td>   -0.341</td> <td> 0.733</td> <td>   -0.665</td> <td>    0.468</td>\n",
       "</tr>\n",
       "<tr>\n",
       "  <th>R_26</th> <td>   -0.2239</td> <td>    0.289</td> <td>   -0.776</td> <td> 0.438</td> <td>   -0.789</td> <td>    0.342</td>\n",
       "</tr>\n",
       "<tr>\n",
       "  <th>R_27</th> <td>    0.6949</td> <td>    0.289</td> <td>    2.406</td> <td> 0.016</td> <td>    0.129</td> <td>    1.261</td>\n",
       "</tr>\n",
       "<tr>\n",
       "  <th>R_28</th> <td>   -0.2979</td> <td>    0.291</td> <td>   -1.022</td> <td> 0.307</td> <td>   -0.869</td> <td>    0.273</td>\n",
       "</tr>\n",
       "<tr>\n",
       "  <th>R_29</th> <td>   -0.7999</td> <td>    0.291</td> <td>   -2.746</td> <td> 0.006</td> <td>   -1.371</td> <td>   -0.229</td>\n",
       "</tr>\n",
       "</table>"
      ],
      "text/plain": [
       "<class 'statsmodels.iolib.summary.Summary'>\n",
       "\"\"\"\n",
       "                           Logit Regression Results                           \n",
       "==============================================================================\n",
       "Dep. Variable:                      y   No. Observations:                10000\n",
       "Model:                          Logit   Df Residuals:                     9960\n",
       "Method:                           MLE   Df Model:                           39\n",
       "Date:                Tue, 04 Aug 2020   Pseudo R-squ.:                  0.4514\n",
       "Time:                        10:41:21   Log-Likelihood:                -3802.7\n",
       "converged:                       True   LL-Null:                       -6931.5\n",
       "Covariance Type:            nonrobust   LLR p-value:                     0.000\n",
       "==============================================================================\n",
       "                 coef    std err          z      P>|z|      [0.025      0.975]\n",
       "------------------------------------------------------------------------------\n",
       "I_0            1.5619      0.814      1.918      0.055      -0.034       3.158\n",
       "I_1           -2.3691      0.709     -3.343      0.001      -3.758      -0.980\n",
       "I_2            0.8641      0.504      1.715      0.086      -0.123       1.851\n",
       "I_3            1.8296      0.860      2.128      0.033       0.145       3.514\n",
       "I_4           -0.4776      0.567     -0.842      0.400      -1.590       0.635\n",
       "N_0            0.0244      0.028      0.857      0.391      -0.031       0.080\n",
       "N_1           -0.0485      0.029     -1.671      0.095      -0.105       0.008\n",
       "N_2            0.0367      0.029      1.262      0.207      -0.020       0.094\n",
       "N_3           -0.0205      0.029     -0.706      0.480      -0.077       0.036\n",
       "N_4           -0.0421      0.029     -1.459      0.145      -0.099       0.014\n",
       "R_0            0.0271      0.287      0.094      0.925      -0.535       0.589\n",
       "R_1           -0.0619      0.286     -0.216      0.829      -0.623       0.499\n",
       "R_2            0.1759      0.286      0.616      0.538      -0.384       0.736\n",
       "R_3           -0.3816      0.288     -1.326      0.185      -0.946       0.182\n",
       "R_4           -0.0886      0.289     -0.307      0.759      -0.655       0.478\n",
       "R_5            0.0035      0.286      0.012      0.990      -0.556       0.563\n",
       "R_6           -0.1685      0.287     -0.587      0.557      -0.732       0.395\n",
       "R_7           -0.0064      0.287     -0.022      0.982      -0.570       0.557\n",
       "R_8           -0.3122      0.289     -1.080      0.280      -0.879       0.255\n",
       "R_9           -0.4787      0.292     -1.637      0.102      -1.052       0.094\n",
       "R_10          -0.2420      0.288     -0.840      0.401      -0.807       0.323\n",
       "R_11           0.2955      0.286      1.034      0.301      -0.265       0.856\n",
       "R_12          -0.0285      0.296     -0.096      0.923      -0.609       0.552\n",
       "R_13           0.3914      0.288      1.360      0.174      -0.173       0.955\n",
       "R_14          -0.2370      0.290     -0.817      0.414      -0.805       0.331\n",
       "R_15           0.1278      0.292      0.438      0.661      -0.444       0.699\n",
       "R_16          -0.1507      0.290     -0.520      0.603      -0.719       0.417\n",
       "R_17          -0.5064      0.288     -1.757      0.079      -1.071       0.059\n",
       "R_18           0.2050      0.288      0.711      0.477      -0.360       0.770\n",
       "R_19          -0.0950      0.288     -0.330      0.741      -0.659       0.469\n",
       "R_20          -0.2437      0.286     -0.851      0.395      -0.805       0.317\n",
       "R_21          -0.0479      0.293     -0.163      0.870      -0.623       0.527\n",
       "R_22           0.1300      0.287      0.452      0.651      -0.433       0.693\n",
       "R_23           0.4978      0.291      1.713      0.087      -0.072       1.067\n",
       "R_24          -0.2049      0.290     -0.706      0.480      -0.774       0.364\n",
       "R_25          -0.0985      0.289     -0.341      0.733      -0.665       0.468\n",
       "R_26          -0.2239      0.289     -0.776      0.438      -0.789       0.342\n",
       "R_27           0.6949      0.289      2.406      0.016       0.129       1.261\n",
       "R_28          -0.2979      0.291     -1.022      0.307      -0.869       0.273\n",
       "R_29          -0.7999      0.291     -2.746      0.006      -1.371      -0.229\n",
       "==============================================================================\n",
       "\"\"\""
      ]
     },
     "execution_count": 7,
     "metadata": {},
     "output_type": "execute_result"
    }
   ],
   "source": [
    "X, y = getTestData(40, 5, 30, 10000, sigmaStd=.1)\n",
    "ols = sm.Logit(y,X).fit()\n",
    "ols.summary()"
   ]
  },
  {
   "cell_type": "code",
   "execution_count": 8,
   "metadata": {},
   "outputs": [
    {
     "data": {
      "image/png": "[encoded data removed]",
      "text/plain": [
       "<Figure size 1440x720 with 1 Axes>"
      ]
     },
     "metadata": {
      "needs_background": "light"
     },
     "output_type": "display_data"
    }
   ],
   "source": [
    "plot_data = ols.pvalues.sort_values(ascending=False)\n",
    "plot_data.plot(kind='barh', figsize=(20,10), title=\"Figure 6.1 p-Values computed on a set of explanatory variables\")\n",
    "plt.show()"
   ]
  },
  {
   "cell_type": "markdown",
   "metadata": {},
   "source": [
    "## SNIPPET 6.2 Implementation of an Ensemble MDI Method"
   ]
  },
  {
   "cell_type": "code",
   "execution_count": 9,
   "metadata": {},
   "outputs": [],
   "source": [
    "def featImpMDI(fit, featNames) :\n",
    "    \n",
    "    # feat imoprtance based on IS mean impurity reduction\n",
    "    \n",
    "    df0 = {i : tree.feature_importances_ for i, tree in enumerate(fit.estimators_)}\n",
    "    \n",
    "    df0 = pd.DataFrame.from_dict(df0, orient='index')\n",
    "    \n",
    "    df0.columns = featNames\n",
    "    df0= df0.replace(0, np.nan) # because max_features=1\n",
    "    \n",
    "    imp = pd.concat({'mean' : df0.mean(), 'std':df0.std() * df0.shape[0]**-.5}, axis=1) #CLT\n",
    "    \n",
    "    imp /= imp['mean'].sum()\n",
    "    return imp\n"
   ]
  },
  {
   "cell_type": "code",
   "execution_count": 10,
   "metadata": {},
   "outputs": [],
   "source": [
    "from sklearn.tree import DecisionTreeClassifier\n",
    "from sklearn.ensemble import BaggingClassifier\n",
    "\n",
    "X, y = getTestData(40, 5, 30, 10000, sigmaStd=.1)"
   ]
  },
  {
   "cell_type": "code",
   "execution_count": 11,
   "metadata": {},
   "outputs": [],
   "source": [
    "clf = DecisionTreeClassifier(criterion='entropy', \n",
    "                             max_features = 1, \n",
    "                             class_weight='balanced', \n",
    "                             min_weight_fraction_leaf=0)\n",
    "\n",
    "clf = BaggingClassifier(base_estimator=clf, \n",
    "                        n_estimators = 1000, \n",
    "                        max_features = 1., \n",
    "                        max_samples = 1., \n",
    "                        oob_score=False)\n",
    "\n",
    "fit = clf.fit(X,y)\n",
    "imp = featImpMDI(fit, featNames=X.columns)"
   ]
  },
  {
   "cell_type": "code",
   "execution_count": 12,
   "metadata": {},
   "outputs": [
    {
     "data": {
      "image/png": "[encoded data removed]",
      "text/plain": [
       "<Figure size 720x576 with 1 Axes>"
      ]
     },
     "metadata": {
      "needs_background": "light"
     },
     "output_type": "display_data"
    }
   ],
   "source": [
    "imp.sort_values('mean', inplace=True)\n",
    "plt.figure(figsize=(10, imp.shape[0] / 5))\n",
    "imp['mean'].plot(kind='barh', color='b', alpha=0.25, xerr=imp['std'], error_kw={'ecolor': 'r'})\n",
    "plt.title('Figure 6.2 Example of MDI results')\n",
    "plt.show()"
   ]
  },
  {
   "cell_type": "markdown",
   "metadata": {},
   "source": [
    "## SNIPPET 6.3 Implementation of MDA"
   ]
  },
  {
   "cell_type": "code",
   "execution_count": 13,
   "metadata": {},
   "outputs": [],
   "source": [
    "def featImpMDA(clf, X, y, n_splits=10) :\n",
    "    # feat importance based on OOS score reduction\n",
    "    \n",
    "    from sklearn.metrics import log_loss\n",
    "    from sklearn.model_selection._split import KFold\n",
    "    cvGen = KFold(n_splits = n_splits)\n",
    "    scr0, scr1 = pd.Series(), pd.DataFrame(columns=X.columns)\n",
    "    \n",
    "    for i, (train, test) in enumerate(cvGen.split(X=X)) :\n",
    "        X0, y0 = X.iloc[train, :], y.iloc[train]\n",
    "        X1, y1 = X.iloc[test, :], y.iloc[test]\n",
    "        fit = clf.fit(X=X0, y=y0)  # the fit occurs here\n",
    "        \n",
    "        prob = fit.predict_proba(X1) # prediction before shuffling\n",
    "        scr0.loc[i] = -log_loss(y1, prob, labels=clf.classes_)\n",
    "        \n",
    "        for j in X.columns :\n",
    "            X1_ = X1.copy(deep=True)\n",
    "            np.random.shuffle(X1_[j].values) # shuffle one column\n",
    "            prob = fit.predict_proba(X1_)  # prediction after shuffling\n",
    "            scr1.loc[i,j] = -log_loss(y1, prob, labels=clf.classes_)\n",
    "    \n",
    "    imp = (-1 * scr1).add(scr0, axis=0)\n",
    "    imp /= -1 * scr1\n",
    "    imp = pd.concat( {'mean' : imp.mean(),\n",
    "                     'std' : imp.std() * imp.shape[0]**-.5}, axis=1)   #CLT\n",
    "    return imp"
   ]
  },
  {
   "cell_type": "code",
   "execution_count": 14,
   "metadata": {},
   "outputs": [],
   "source": [
    "X,y = getTestData(40, 5, 30, 10000, sigmaStd = .1)\n",
    "\n",
    "clf = DecisionTreeClassifier(criterion = 'entropy',\n",
    "                            max_features = 1,\n",
    "                            class_weight = 'balanced',\n",
    "                            min_weight_fraction_leaf = 0)\n",
    "\n",
    "clf = BaggingClassifier(base_estimator = clf,\n",
    "                        n_estimators = 1000,\n",
    "                        max_features = 1.,\n",
    "                        max_samples = 1.,\n",
    "                        oob_score = False)\n",
    "\n",
    "imp = featImpMDA(clf, X, y, 10)"
   ]
  },
  {
   "cell_type": "code",
   "execution_count": 15,
   "metadata": {},
   "outputs": [
    {
     "data": {
      "image/png": "[encoded data removed]",
      "text/plain": [
       "<Figure size 720x576 with 1 Axes>"
      ]
     },
     "metadata": {
      "needs_background": "light"
     },
     "output_type": "display_data"
    }
   ],
   "source": [
    "imp.sort_values('mean', inplace=True)\n",
    "plt.figure(figsize=(10, imp.shape[0] / 5))\n",
    "imp['mean'].plot(kind='barh', color='b', alpha=0.25, xerr=imp['std'], error_kw={'ecolor': 'r'})\n",
    "plt.title('Figure 6.3 Example of MDA results')\n",
    "plt.show()"
   ]
  },
  {
   "cell_type": "markdown",
   "metadata": {},
   "source": [
    "## SNIPPET 6.4 Clustered MDI"
   ]
  },
  {
   "cell_type": "code",
   "execution_count": 16,
   "metadata": {},
   "outputs": [],
   "source": [
    "def groupMeanStd(df0, clstrs) :\n",
    "    \n",
    "    out = pd.DataFrame(columns=['mean','std'])\n",
    "    \n",
    "    for i, j in clstrs.items():\n",
    "        df1 = df0[j].sum(axis=1)\n",
    "        out.loc['C_' + str(i), 'mean'] = df1.mean()\n",
    "        out.loc['C_' + str(i), 'std'] = df1.std() * df1.shape[0]**-.5\n",
    "    \n",
    "    return out\n",
    "\n",
    "def featImpMDI_Clustered(fit, featNames, clstrs) :\n",
    "    df0 = {i:tree.feature_importances_ for i, tree in enumerate(fit.estimators_)}\n",
    "    \n",
    "    df0 = pd.DataFrame.from_dict(df0, orient='index')\n",
    "    df0.columns = featNames\n",
    "    df0 = df0.replace(0, np.nan)  # because max_features = 1\n",
    "    \n",
    "    imp = groupMeanStd(df0, clstrs)\n",
    "    imp /= imp['mean'].sum()\n",
    "\n",
    "    return imp"
   ]
  },
  {
   "cell_type": "markdown",
   "metadata": {},
   "source": [
    "## SNIPPET 6.5 Clustered MDA"
   ]
  },
  {
   "cell_type": "code",
   "execution_count": 27,
   "metadata": {},
   "outputs": [],
   "source": [
    "def featImpMDA_Clustered(clf,X,y,clstrs,n_splits=10):\n",
    "    from sklearn.metrics import log_loss\n",
    "    from sklearn.model_selection._split import KFold\n",
    "    \n",
    "    cvGen = KFold(n_splits = n_splits)\n",
    "    scr0, scr1 = pd.Series(), pd.DataFrame(columns=clstrs.keys())\n",
    "    \n",
    "    for i, (train, test) in enumerate(cvGen.split(X=X)) :\n",
    "        X0, y0 = X.iloc[train, :], y.iloc[train]\n",
    "        X1, y1 = X.iloc[test, :], y.iloc[test]\n",
    "        fit = clf.fit(X=X0, y=y0)\n",
    "        prob = fit.predict_proba(X1)\n",
    "        \n",
    "        scr0.loc[i] = -log_loss(y1, prob, labels=clf.classes_)\n",
    "        \n",
    "        for j in scr1.columns :\n",
    "            X1_ = X1.copy(deep=True)\n",
    "            \n",
    "            for k in clstrs[j]:\n",
    "                np.random.shuffle(X1_[k].values) # shuffle clusters\n",
    "            \n",
    "            prob = fit.predict_proba(X1_)\n",
    "            scr1.loc[i,j] = -log_loss(y1, prob, labels=clf.classes_)\n",
    "            \n",
    "    imp = (-1 * scr1).add(scr0, axis=0)\n",
    "    imp /= -1 * scr1\n",
    "    imp = pd.concat({'mean' : imp.mean(),\n",
    "                    'std' : imp.std() * imp.shape[0]**-.5}, axis=1)\n",
    "    imp.index = ['C_' + str(i) for i in imp.index]\n",
    "\n",
    "    return imp"
   ]
  },
  {
   "cell_type": "markdown",
   "metadata": {},
   "source": [
    "## SNIPPET 6.6 Features Clustering Step"
   ]
  },
  {
   "cell_type": "markdown",
   "metadata": {},
   "source": [
    "### Define SNIPPET 4.1"
   ]
  },
  {
   "cell_type": "code",
   "execution_count": 30,
   "metadata": {},
   "outputs": [],
   "source": [
    "from sklearn.cluster import KMeans\n",
    "from sklearn.metrics import silhouette_samples\n",
    "\n",
    "def clusterKMeansBase(corr0, maxNumClusters = 10, n_init = 10) :\n",
    "\n",
    "    x = ((1-corr0.fillna(0))/2)**0.5\n",
    "    silh = pd.Series()   # Observations matrix\n",
    "    \n",
    "    for init in range(n_init) :\n",
    "        for i in range (2, maxNumClusters +1) :\n",
    "            kmeans_ = KMeans(n_clusters = i, n_init=1)\n",
    "            kmeans_ = kmeans_.fit(x)\n",
    "            \n",
    "            silh_ = silhouette_samples(x, kmeans_.labels_)\n",
    "            stat = (silh_.mean() / silh_.std(), silh.mean()/silh.std())\n",
    "            \n",
    "            if np.isnan(stat[1]) or stat[0] > stat[1] :\n",
    "                silh = silh_\n",
    "                kmeans = kmeans_\n",
    "    \n",
    "    # Reordering\n",
    "    newIdx = np.argsort(kmeans.labels_)\n",
    "    corr1 = corr0.iloc[newIdx] # reorder rows\n",
    "    corr1 = corr1.iloc[:, newIdx] # reorder columns\n",
    "    \n",
    "    clstrs = {i:corr0.columns[np.where(kmeans.labels_==i)[0]].tolist() \\\n",
    "             for i in np.unique(kmeans.labels_)}  # cluster members\n",
    "    silh = pd.Series(silh, index = x.index)\n",
    "    \n",
    "    return corr1, clstrs, silh\n",
    "    "
   ]
  },
  {
   "cell_type": "code",
   "execution_count": 31,
   "metadata": {},
   "outputs": [
    {
     "data": {
      "image/png": "[encoded data removed]",
      "text/plain": [
       "<Figure size 936x720 with 2 Axes>"
      ]
     },
     "metadata": {
      "needs_background": "light"
     },
     "output_type": "display_data"
    }
   ],
   "source": [
    "X, y = getTestData(40, 5, 30, 10000, sigmaStd=.1)\n",
    "corr0, clstrs, silh = clusterKMeansBase(X.corr(), maxNumClusters=10, n_init=10)\n",
    "\n",
    "fig, ax = plt.subplots(figsize=(13,10))       \n",
    "sns.heatmap(corr0, cmap='viridis')\n",
    "plt.show()"
   ]
  },
  {
   "cell_type": "markdown",
   "metadata": {},
   "source": [
    "## SNIPPET 6.7 Calling the Functions for Clusterd MDI"
   ]
  },
  {
   "cell_type": "code",
   "execution_count": 21,
   "metadata": {},
   "outputs": [],
   "source": [
    "clf = DecisionTreeClassifier(criterion = 'entropy', \n",
    "                             max_features=1,\n",
    "                             class_weight = 'balanced',\n",
    "                             min_weight_fraction_leaf = 0)\n",
    "\n",
    "clf = BaggingClassifier(base_estimator = clf,\n",
    "                       n_estimators = 1000,\n",
    "                       max_features = 1.,\n",
    "                       max_samples = 1.,\n",
    "                       oob_score = False)\n",
    "\n",
    "fit = clf.fit(X, y)\n",
    "\n",
    "imp = featImpMDI_Clustered(fit, X.columns, clstrs)"
   ]
  },
  {
   "cell_type": "code",
   "execution_count": 22,
   "metadata": {},
   "outputs": [
    {
     "data": {
      "image/png": "[encoded data removed]",
      "text/plain": [
       "<Figure size 720x360 with 1 Axes>"
      ]
     },
     "metadata": {
      "needs_background": "light"
     },
     "output_type": "display_data"
    }
   ],
   "source": [
    "imp.sort_values('mean', inplace=True)\n",
    "plt.figure(figsize=(10, 5))\n",
    "imp['mean'].plot(kind='barh', color='b', alpha=0.25, xerr=imp['std'], error_kw={'ecolor': 'r'})\n",
    "plt.title('Figure 6.5 Clustered MDI')\n",
    "plt.show()"
   ]
  },
  {
   "cell_type": "markdown",
   "metadata": {},
   "source": [
    "## SNIPPET 6.8 Calling the Functions for Clustered MDA"
   ]
  },
  {
   "cell_type": "code",
   "execution_count": 28,
   "metadata": {},
   "outputs": [],
   "source": [
    "clf = DecisionTreeClassifier(criterion='entropy',\n",
    "                            max_features=1,\n",
    "                            class_weight='balanced',\n",
    "                            min_weight_fraction_leaf=0)\n",
    "\n",
    "clf = BaggingClassifier(base_estimator=clf,\n",
    "                       n_estimators=1000,\n",
    "                       max_features=1.,\n",
    "                       max_samples=1.,\n",
    "                       oob_score=False)\n",
    "\n",
    "imp = featImpMDA_Clustered(clf, X, y, clstrs,10)"
   ]
  },
  {
   "cell_type": "code",
   "execution_count": 29,
   "metadata": {},
   "outputs": [
    {
     "data": {
      "image/png": "[encoded data removed]",
      "text/plain": [
       "<Figure size 720x360 with 1 Axes>"
      ]
     },
     "metadata": {
      "needs_background": "light"
     },
     "output_type": "display_data"
    }
   ],
   "source": [
    "imp.sort_values('mean', inplace=True)\n",
    "plt.figure(figsize=(10, 5))\n",
    "imp['mean'].plot(kind='barh', color='b', alpha=0.25, xerr=imp['std'], error_kw={'ecolor': 'r'})\n",
    "plt.title('Figure 6.5 Clustered MDI')\n",
    "plt.show()"
   ]
  }
 ],
 "metadata": {
  "kernelspec": {
   "display_name": "xgboost",
   "language": "python",
   "name": "xgboost"
  },
  "language_info": {
   "codemirror_mode": {
    "name": "ipython",
    "version": 3
   },
   "file_extension": ".py",
   "mimetype": "text/x-python",
   "name": "python",
   "nbconvert_exporter": "python",
   "pygments_lexer": "ipython3",
   "version": "3.6.10"
  }
 },
 "nbformat": 4,
 "nbformat_minor": 4
}
