{
 "cells": [
  {
   "cell_type": "markdown",
   "metadata": {},
   "source": [
    "# Machine Learning for Asset Managers"
   ]
  },
  {
   "cell_type": "markdown",
   "metadata": {},
   "source": [
    "## Chapter 4 Optimal Clustering"
   ]
  },
  {
   "cell_type": "markdown",
   "metadata": {},
   "source": [
    "### Snippet 4.1 Base Clustering"
   ]
  },
  {
   "cell_type": "code",
   "execution_count": 1,
   "metadata": {},
   "outputs": [],
   "source": [
    "import numpy as np\n",
    "import pandas as pd\n",
    "from sklearn.cluster import KMeans\n",
    "from sklearn.metrics import silhouette_samples"
   ]
  },
  {
   "cell_type": "code",
   "execution_count": 2,
   "metadata": {},
   "outputs": [],
   "source": [
    "def clusterKMeansBase(corr0, maxNumClusters = 10, n_init = 10) :\n",
    "\n",
    "    x = ((1-corr0.fillna(0))/2)**0.5\n",
    "    silh = pd.Series()   # Observations matrix\n",
    "    \n",
    "    for init in range(n_init) :\n",
    "        for i in range (2, maxNumClusters +1) :\n",
    "            kmeans_ = KMeans(n_clusters = i, n_init=1)\n",
    "            kmeans_ = kmeans_.fit(x)\n",
    "            \n",
    "            silh_ = silhouette_samples(x, kmeans_.labels_)\n",
    "            stat = (silh_.mean() / silh_.std(), silh.mean()/silh.std())\n",
    "            \n",
    "            if np.isnan(stat[1]) or stat[0] > stat[1] :\n",
    "                silh = silh_\n",
    "                kmeans = kmeans_\n",
    "    \n",
    "    # Reordering\n",
    "    newIdx = np.argsort(kmeans.labels_)\n",
    "    corr1 = corr0.iloc[newIdx] # reorder rows\n",
    "    corr1 = corr1.iloc[:, newIdx] # reorder columns\n",
    "    \n",
    "    clstrs = {i:corr0.columns[np.where(kmeans.labels_==i)[0]].tolist() \\\n",
    "             for i in np.unique(kmeans.labels_)}  # cluster members\n",
    "    silh = pd.Series(silh, index = x.index)\n",
    "    \n",
    "    return corr1, clstrs, silh\n",
    "    "
   ]
  },
  {
   "cell_type": "markdown",
   "metadata": {},
   "source": [
    "### Snippet 4.2 Top-Level of Clustering"
   ]
  },
  {
   "cell_type": "code",
   "execution_count": 3,
   "metadata": {},
   "outputs": [],
   "source": [
    "from sklearn.metrics import silhouette_samples"
   ]
  },
  {
   "cell_type": "code",
   "execution_count": 20,
   "metadata": {},
   "outputs": [],
   "source": [
    "def makeNewOutputs(corr0, clstrs, clstrs2) :\n",
    "    \n",
    "    clstrsNew = {}\n",
    "    \n",
    "    # Allocate elements of cluster 1 and 2 to one dictionary (clstrsNew)\n",
    "    for key_i in clstrs.keys() :\n",
    "        clstrsNew[len(clstrsNew.keys())] = list(clstrs[key_i])\n",
    "        \n",
    "    for key_j in clstrs2.keys() :\n",
    "        clstrsNew[len(clstrsNew.keys())] = list(clstrs2[key_j])\n",
    "        \n",
    "    # need study\n",
    "    newIdx = [j for i in clstrsNew for j in clstrsNew[i]]\n",
    "    \n",
    "    # Rearrange the correlation matrix\n",
    "    corrNew = corr0.loc[newIdx, newIdx]\n",
    "    \n",
    "    # Correlation to distance\n",
    "    x = ((1 - corr0.fillna(0))/ 2.0) ** 0.5\n",
    "    \n",
    "    kmeans_labels = np.zeros(len(x.columns))\n",
    "    print(kmeans_labels)\n",
    "    \n",
    "    # Get index using clstrsNew cluster and x's value\n",
    "    for idx in clstrsNew.keys() :\n",
    "        idxs = [x.index.get_loc(k) for k in clstrsNew[idx]]\n",
    "        \n",
    "    silhNew = pd.Series(silhouette_samples(x, kmeans_labels), index = x.index)\n",
    "    \n",
    "    return corrNew, clstrsNew, silhNew\n",
    "\n",
    "\n",
    "def clusterKMeansTop(corr0, maxNumClusters=None, n_init = 10) :\n",
    "    \n",
    "    # If there's no maxNumClusters value, set its value lenth(corr) - 1\n",
    "    if maxNumClusters == None :\n",
    "        maxNumClusters = corr0.shape[1] - 1 \n",
    "        \n",
    "    corr1, clstrs, silh = clusterKMeansBase(corr0, \n",
    "                                            maxNumClusters = min(maxNumClusters, corr0.shape[1] -1),\n",
    "                                            n_init = n_init)\n",
    "    \n",
    "    clusterTstats = {i:np.mean(silh[clstrs[i]])/ np.std(silh[clstrs[i]]) for i in clstrs.keys()}\n",
    "    \n",
    "    tStatMean = sum(clusterTstats.values()) / len(clusterTstats)\n",
    "    \n",
    "    redoClusters = [i for i in clusterTstats.keys() if clusterTstats[i] < tStatMean]\n",
    "    \n",
    "    if len(redoClusters) <= 1 :\n",
    "        return corr1, clstrs, silh\n",
    "    \n",
    "    else :\n",
    "        keysRedo = [j for i in redoClusters for j in clstrs[i]]\n",
    "        \n",
    "        corrTmp = corr0.loc[keysRedo, keysRedo]\n",
    "        tStatMean = np.mean([clusterTstats[i] for i in redoClusters])\n",
    "        \n",
    "        corr2, clstrs2, silh2 = clusterKMeansTop(corrTmp,\n",
    "                                                maxNumClusters = min(maxNumClusters, corrTmp.shape[1] -1),\n",
    "                                                n_init = n_init)\n",
    "        \n",
    "        # Make new outputs, if necessary\n",
    "        \n",
    "        corrNew, clstrsNew, silhNew = \\\n",
    "        makeNewOutputs(corr0,\n",
    "                       {i:clstrs[i] for i in clstrs.keys() if i not in redoClusters},\n",
    "                      clstrs2)\n",
    "        \n",
    "        newTstatMean = np.mean([np.mean(silhNew[clstrsNew[i]]) / np.std(silhNew[clstrsNew[i]]) for i in clstrsNew.keys()])\n",
    "        \n",
    "        if newTstatMean <= tStatMean :\n",
    "            return corr1, clstrs, silh\n",
    "        \n",
    "        else :\n",
    "            return corrNew, clstrsNew, silhNew"
   ]
  },
  {
   "cell_type": "markdown",
   "metadata": {},
   "source": [
    "### Snippet 4.3 Random Block Correlation Matrix Creation"
   ]
  },
  {
   "cell_type": "code",
   "execution_count": 5,
   "metadata": {},
   "outputs": [],
   "source": [
    "import numpy as np\n",
    "import pandas as pd\n",
    "from scipy.linalg import block_diag\n",
    "from sklearn.utils import check_random_state"
   ]
  },
  {
   "cell_type": "code",
   "execution_count": 6,
   "metadata": {},
   "outputs": [],
   "source": [
    "def getCovSub(nObs, nCols, sigma, random_state = None) :\n",
    "    \n",
    "    # Sub correl matrix\n",
    "    rng = check_random_state(random_state)\n",
    "    \n",
    "    if nCols == 1:\n",
    "        return np.ones((1,1))\n",
    "    \n",
    "    ar0 = rng.normal(size=(nObs, 1))\n",
    "    ar0 = np.repeat(ar0, nCols, axis =1 )\n",
    "    ar0 += rng.normal(scale=sigma, size = ar0.shape)\n",
    "    ar0 = np.cov(ar0, rowvar=False)\n",
    "    \n",
    "    return ar0\n",
    "\n",
    "\n",
    "def getRndBlockCov(nCols, nBlocks, minBlockSize=1, sigma = 1.0, random_state=None):\n",
    "    \n",
    "    # Generate a block random correlation matrix\n",
    "    rng = check_random_state(random_state)\n",
    "    parts = rng.choice(range(1, nCols - (minBlockSize -1) * nBlocks), nBlocks-1, replace=False)\n",
    "    parts.sort()\n",
    "    parts = np.append(parts, nCols - (minBlockSize - 1) * nBlocks)\n",
    "    parts = np.append(parts[0], np.diff(parts)) -1 + minBlockSize\n",
    "    \n",
    "    cov = None\n",
    "    \n",
    "    for nCols_ in parts :\n",
    "        cov_ = getCovSub(int(max(nCols_ * (nCols_ + 1)/2.0, 100)),\n",
    "                        nCols_,\n",
    "                        sigma,\n",
    "                        random_state = rng)\n",
    "        \n",
    "        if cov is None :\n",
    "            cov = cov_.copy()\n",
    "        else :\n",
    "            cov = block_diag(cov, cov_)\n",
    "            \n",
    "    return cov\n",
    "    \n",
    "\n",
    "\n",
    "def randomBlockCorr(nCols, nBlocks, random_state = None, minBlockSize=1) :\n",
    "        \n",
    "        \n",
    "    # Form block corr\n",
    "    rng = check_random_state(random_state)\n",
    "    \n",
    "    cov0 = getRndBlockCov(nCols, nBlocks,\n",
    "                         minBlockSize = minBlockSize,\n",
    "                         sigma = 0.5,\n",
    "                         random_state = rng)\n",
    "    \n",
    "    # Add Noise\n",
    "    cov1 = getRndBlockCov(nCols, 1,\n",
    "                         minBlockSize = minBlockSize,\n",
    "                         sigma = 1.0,\n",
    "                         random_state = rng)\n",
    "        \n",
    "    cov0 += cov1\n",
    "    \n",
    "    corr0 = cov2corr(cov0)\n",
    "    corr0 = pd.DataFrame(corr0)\n",
    "    \n",
    "    return corr0"
   ]
  },
  {
   "cell_type": "markdown",
   "metadata": {},
   "source": [
    "#### Define dependecies"
   ]
  },
  {
   "cell_type": "code",
   "execution_count": 7,
   "metadata": {},
   "outputs": [],
   "source": [
    "def cov2corr(cov) :\n",
    "    # Derive the correlation matrix from a covariance matrix\n",
    "    std = np.sqrt(np.diag(cov))\n",
    "    corr = cov / np.outer(std,std)\n",
    "    \n",
    "    # Clipping to prevent numerical errors\n",
    "    corr[corr <-1] = -1\n",
    "    corr[corr > 1] = 1\n",
    "    \n",
    "    return corr"
   ]
  },
  {
   "cell_type": "markdown",
   "metadata": {},
   "source": [
    "### Figure 4.3 Example of a random block correlation matrix, before shuffling."
   ]
  },
  {
   "cell_type": "code",
   "execution_count": 9,
   "metadata": {},
   "outputs": [
    {
     "data": {
      "image/png": "[encoded data removed]",
      "text/plain": [
       "<Figure size 936x720 with 2 Axes>"
      ]
     },
     "metadata": {
      "needs_background": "light"
     },
     "output_type": "display_data"
    }
   ],
   "source": [
    "import matplotlib.pyplot as plt\n",
    "import seaborn as sns\n",
    "\n",
    "corr = randomBlockCorr(nCols = 50, nBlocks = 7, random_state = 1)\n",
    "\n",
    "plt.rcParams[\"figure.figsize\"] = (13,10)\n",
    "plt.pcolor(corr)\n",
    "plt.colorbar()\n",
    "plt.show()"
   ]
  },
  {
   "cell_type": "markdown",
   "metadata": {},
   "source": [
    "### Figure 4.4 Boxplots of estimated K/actual K for bucketed K/N."
   ]
  },
  {
   "cell_type": "code",
   "execution_count": 29,
   "metadata": {},
   "outputs": [],
   "source": [
    "K_N_deciles = [(0.001,0.1), (0.1,0.2), (0.2,0.3), (0.3,0.4), (0.4,0.5)]\n",
    "K_N_deciles_str = [\"(0.001, 0.1]\", \"(0.1, 0.2]\", \"(0.2,0.3]\", \"(0.3,0.4]\", \"(0.4,0.5]\"]\n",
    "\n",
    "MIN_CLUSTER = 2\n",
    "LOOP_SIZE = 1000\n",
    "Ns = np.array([20, 40, 80, 160])"
   ]
  },
  {
   "cell_type": "code",
   "execution_count": 32,
   "metadata": {},
   "outputs": [
    {
     "name": "stdout",
     "output_type": "stream",
     "text": [
      "[ 20  40  80 160]\n",
      "[0. 0. 0. 0. 0. 0. 0. 0. 0. 0. 0. 0. 0. 0. 0. 0. 0. 0. 0. 0.]\n"
     ]
    },
    {
     "ename": "ValueError",
     "evalue": "Number of labels is 1. Valid values are 2 to n_samples - 1 (inclusive)",
     "output_type": "error",
     "traceback": [
      "\u001b[1;31m---------------------------------------------------------------------------\u001b[0m",
      "\u001b[1;31mValueError\u001b[0m                                Traceback (most recent call last)",
      "\u001b[1;32m<ipython-input-32-48082d6364e3>\u001b[0m in \u001b[0;36m<module>\u001b[1;34m\u001b[0m\n\u001b[0;32m     25\u001b[0m \u001b[1;33m\u001b[0m\u001b[0m\n\u001b[0;32m     26\u001b[0m         \u001b[1;31m# Clustering by KMeansTop\u001b[0m\u001b[1;33m\u001b[0m\u001b[1;33m\u001b[0m\u001b[0m\n\u001b[1;32m---> 27\u001b[1;33m         \u001b[0mcorrNew\u001b[0m\u001b[1;33m,\u001b[0m \u001b[0mclstrsNew\u001b[0m\u001b[1;33m,\u001b[0m \u001b[0msilhNew\u001b[0m \u001b[1;33m=\u001b[0m \u001b[0mclusterKMeansTop\u001b[0m\u001b[1;33m(\u001b[0m\u001b[0mcorr0\u001b[0m \u001b[1;33m=\u001b[0m \u001b[0mcorr\u001b[0m\u001b[1;33m)\u001b[0m\u001b[1;33m\u001b[0m\u001b[0m\n\u001b[0m\u001b[0;32m     28\u001b[0m \u001b[1;33m\u001b[0m\u001b[0m\n\u001b[0;32m     29\u001b[0m         \u001b[1;31m# Save data to list\u001b[0m\u001b[1;33m\u001b[0m\u001b[1;33m\u001b[0m\u001b[0m\n",
      "\u001b[1;32m<ipython-input-20-9f91cf96e593>\u001b[0m in \u001b[0;36mclusterKMeansTop\u001b[1;34m(corr0, maxNumClusters, n_init)\u001b[0m\n\u001b[0;32m     65\u001b[0m         makeNewOutputs(corr0,\n\u001b[0;32m     66\u001b[0m                        \u001b[1;33m{\u001b[0m\u001b[0mi\u001b[0m\u001b[1;33m:\u001b[0m\u001b[0mclstrs\u001b[0m\u001b[1;33m[\u001b[0m\u001b[0mi\u001b[0m\u001b[1;33m]\u001b[0m \u001b[1;32mfor\u001b[0m \u001b[0mi\u001b[0m \u001b[1;32min\u001b[0m \u001b[0mclstrs\u001b[0m\u001b[1;33m.\u001b[0m\u001b[0mkeys\u001b[0m\u001b[1;33m(\u001b[0m\u001b[1;33m)\u001b[0m \u001b[1;32mif\u001b[0m \u001b[0mi\u001b[0m \u001b[1;32mnot\u001b[0m \u001b[1;32min\u001b[0m \u001b[0mredoClusters\u001b[0m\u001b[1;33m}\u001b[0m\u001b[1;33m,\u001b[0m\u001b[1;33m\u001b[0m\u001b[0m\n\u001b[1;32m---> 67\u001b[1;33m                       clstrs2)\n\u001b[0m\u001b[0;32m     68\u001b[0m \u001b[1;33m\u001b[0m\u001b[0m\n\u001b[0;32m     69\u001b[0m         \u001b[0mnewTstatMean\u001b[0m \u001b[1;33m=\u001b[0m \u001b[0mnp\u001b[0m\u001b[1;33m.\u001b[0m\u001b[0mmean\u001b[0m\u001b[1;33m(\u001b[0m\u001b[1;33m[\u001b[0m\u001b[0mnp\u001b[0m\u001b[1;33m.\u001b[0m\u001b[0mmean\u001b[0m\u001b[1;33m(\u001b[0m\u001b[0msilhNew\u001b[0m\u001b[1;33m[\u001b[0m\u001b[0mclstrsNew\u001b[0m\u001b[1;33m[\u001b[0m\u001b[0mi\u001b[0m\u001b[1;33m]\u001b[0m\u001b[1;33m]\u001b[0m\u001b[1;33m)\u001b[0m \u001b[1;33m/\u001b[0m \u001b[0mnp\u001b[0m\u001b[1;33m.\u001b[0m\u001b[0mstd\u001b[0m\u001b[1;33m(\u001b[0m\u001b[0msilhNew\u001b[0m\u001b[1;33m[\u001b[0m\u001b[0mclstrsNew\u001b[0m\u001b[1;33m[\u001b[0m\u001b[0mi\u001b[0m\u001b[1;33m]\u001b[0m\u001b[1;33m]\u001b[0m\u001b[1;33m)\u001b[0m \u001b[1;32mfor\u001b[0m \u001b[0mi\u001b[0m \u001b[1;32min\u001b[0m \u001b[0mclstrsNew\u001b[0m\u001b[1;33m.\u001b[0m\u001b[0mkeys\u001b[0m\u001b[1;33m(\u001b[0m\u001b[1;33m)\u001b[0m\u001b[1;33m]\u001b[0m\u001b[1;33m)\u001b[0m\u001b[1;33m\u001b[0m\u001b[0m\n",
      "\u001b[1;32m<ipython-input-20-9f91cf96e593>\u001b[0m in \u001b[0;36mmakeNewOutputs\u001b[1;34m(corr0, clstrs, clstrs2)\u001b[0m\n\u001b[0;32m     26\u001b[0m         \u001b[0midxs\u001b[0m \u001b[1;33m=\u001b[0m \u001b[1;33m[\u001b[0m\u001b[0mx\u001b[0m\u001b[1;33m.\u001b[0m\u001b[0mindex\u001b[0m\u001b[1;33m.\u001b[0m\u001b[0mget_loc\u001b[0m\u001b[1;33m(\u001b[0m\u001b[0mk\u001b[0m\u001b[1;33m)\u001b[0m \u001b[1;32mfor\u001b[0m \u001b[0mk\u001b[0m \u001b[1;32min\u001b[0m \u001b[0mclstrsNew\u001b[0m\u001b[1;33m[\u001b[0m\u001b[0midx\u001b[0m\u001b[1;33m]\u001b[0m\u001b[1;33m]\u001b[0m\u001b[1;33m\u001b[0m\u001b[0m\n\u001b[0;32m     27\u001b[0m \u001b[1;33m\u001b[0m\u001b[0m\n\u001b[1;32m---> 28\u001b[1;33m     \u001b[0msilhNew\u001b[0m \u001b[1;33m=\u001b[0m \u001b[0mpd\u001b[0m\u001b[1;33m.\u001b[0m\u001b[0mSeries\u001b[0m\u001b[1;33m(\u001b[0m\u001b[0msilhouette_samples\u001b[0m\u001b[1;33m(\u001b[0m\u001b[0mx\u001b[0m\u001b[1;33m,\u001b[0m \u001b[0mkmeans_labels\u001b[0m\u001b[1;33m)\u001b[0m\u001b[1;33m,\u001b[0m \u001b[0mindex\u001b[0m \u001b[1;33m=\u001b[0m \u001b[0mx\u001b[0m\u001b[1;33m.\u001b[0m\u001b[0mindex\u001b[0m\u001b[1;33m)\u001b[0m\u001b[1;33m\u001b[0m\u001b[0m\n\u001b[0m\u001b[0;32m     29\u001b[0m \u001b[1;33m\u001b[0m\u001b[0m\n\u001b[0;32m     30\u001b[0m     \u001b[1;32mreturn\u001b[0m \u001b[0mcorrNew\u001b[0m\u001b[1;33m,\u001b[0m \u001b[0mclstrsNew\u001b[0m\u001b[1;33m,\u001b[0m \u001b[0msilhNew\u001b[0m\u001b[1;33m\u001b[0m\u001b[0m\n",
      "\u001b[1;32m~\\AppData\\Local\\Continuum\\anaconda3\\envs\\py364\\lib\\site-packages\\sklearn\\metrics\\cluster\\unsupervised.py\u001b[0m in \u001b[0;36msilhouette_samples\u001b[1;34m(X, labels, metric, **kwds)\u001b[0m\n\u001b[0;32m    215\u001b[0m     \u001b[0mn_samples\u001b[0m \u001b[1;33m=\u001b[0m \u001b[0mlen\u001b[0m\u001b[1;33m(\u001b[0m\u001b[0mlabels\u001b[0m\u001b[1;33m)\u001b[0m\u001b[1;33m\u001b[0m\u001b[0m\n\u001b[0;32m    216\u001b[0m     \u001b[0mlabel_freqs\u001b[0m \u001b[1;33m=\u001b[0m \u001b[0mnp\u001b[0m\u001b[1;33m.\u001b[0m\u001b[0mbincount\u001b[0m\u001b[1;33m(\u001b[0m\u001b[0mlabels\u001b[0m\u001b[1;33m)\u001b[0m\u001b[1;33m\u001b[0m\u001b[0m\n\u001b[1;32m--> 217\u001b[1;33m     \u001b[0mcheck_number_of_labels\u001b[0m\u001b[1;33m(\u001b[0m\u001b[0mlen\u001b[0m\u001b[1;33m(\u001b[0m\u001b[0mle\u001b[0m\u001b[1;33m.\u001b[0m\u001b[0mclasses_\u001b[0m\u001b[1;33m)\u001b[0m\u001b[1;33m,\u001b[0m \u001b[0mn_samples\u001b[0m\u001b[1;33m)\u001b[0m\u001b[1;33m\u001b[0m\u001b[0m\n\u001b[0m\u001b[0;32m    218\u001b[0m \u001b[1;33m\u001b[0m\u001b[0m\n\u001b[0;32m    219\u001b[0m     \u001b[0mkwds\u001b[0m\u001b[1;33m[\u001b[0m\u001b[1;34m'metric'\u001b[0m\u001b[1;33m]\u001b[0m \u001b[1;33m=\u001b[0m \u001b[0mmetric\u001b[0m\u001b[1;33m\u001b[0m\u001b[0m\n",
      "\u001b[1;32m~\\AppData\\Local\\Continuum\\anaconda3\\envs\\py364\\lib\\site-packages\\sklearn\\metrics\\cluster\\unsupervised.py\u001b[0m in \u001b[0;36mcheck_number_of_labels\u001b[1;34m(n_labels, n_samples)\u001b[0m\n\u001b[0;32m     33\u001b[0m     \u001b[1;32mif\u001b[0m \u001b[1;32mnot\u001b[0m \u001b[1;36m1\u001b[0m \u001b[1;33m<\u001b[0m \u001b[0mn_labels\u001b[0m \u001b[1;33m<\u001b[0m \u001b[0mn_samples\u001b[0m\u001b[1;33m:\u001b[0m\u001b[1;33m\u001b[0m\u001b[0m\n\u001b[0;32m     34\u001b[0m         raise ValueError(\"Number of labels is %d. Valid values are 2 \"\n\u001b[1;32m---> 35\u001b[1;33m                          \"to n_samples - 1 (inclusive)\" % n_labels)\n\u001b[0m\u001b[0;32m     36\u001b[0m \u001b[1;33m\u001b[0m\u001b[0m\n\u001b[0;32m     37\u001b[0m \u001b[1;33m\u001b[0m\u001b[0m\n",
      "\u001b[1;31mValueError\u001b[0m: Number of labels is 1. Valid values are 2 to n_samples - 1 (inclusive)"
     ]
    }
   ],
   "source": [
    "result_dict = {}\n",
    "\n",
    "for i, interval in enumerate(K_N_deciles[1:]) :\n",
    "    \n",
    "    # Redefine Ns to fit each range\n",
    "    Nr = Ns[np.where(Ns*interval[1] > MIN_CLUSTER )]\n",
    "    \n",
    "    \n",
    "    #\n",
    "    result_list = []\n",
    "    \n",
    "    for _ in range(LOOP_SIZE) :\n",
    "        \n",
    "        # Define Random N in given range Nr\n",
    "        N = np.random.choice(Nr, 1)[0]\n",
    "        \n",
    "        # Define Random K in given range Kr\n",
    "        Kr = np.arange(interval[0], interval[1], (interval[1] - interval[0])/LOOP_SIZE)\n",
    "        Kr = (Kr * N ).astype(np.int32)\n",
    "        K = max(np.random.choice(Kr, 1)[0], 2)\n",
    "        \n",
    "        # Create New Randdom block's corr\n",
    "        corr = randomBlockCorr(nCols = N, nBlocks = K)\n",
    "        \n",
    "        # Clustering by KMeansTop\n",
    "        corrNew, clstrsNew, silhNew = clusterKMeansTop(corr0 = corr)\n",
    "        \n",
    "        # Save data to list\n",
    "        result_list.append(len(clstrsNew))\n",
    "        \n",
    "    \n",
    "    result_dict[interval] = result_list\n",
    "    "
   ]
  },
  {
   "cell_type": "code",
   "execution_count": 18,
   "metadata": {},
   "outputs": [
    {
     "data": {
      "text/plain": [
       "array([0.2, 0.4, 0.8, 1.6])"
      ]
     },
     "execution_count": 18,
     "metadata": {},
     "output_type": "execute_result"
    }
   ],
   "source": [
    "\n",
    "Ns * 0.01"
   ]
  },
  {
   "cell_type": "code",
   "execution_count": null,
   "metadata": {},
   "outputs": [],
   "source": []
  }
 ],
 "metadata": {
  "kernelspec": {
   "display_name": "py364",
   "language": "python",
   "name": "py364"
  },
  "language_info": {
   "codemirror_mode": {
    "name": "ipython",
    "version": 3
   },
   "file_extension": ".py",
   "mimetype": "text/x-python",
   "name": "python",
   "nbconvert_exporter": "python",
   "pygments_lexer": "ipython3",
   "version": "3.6.4"
  }
 },
 "nbformat": 4,
 "nbformat_minor": 4
}
