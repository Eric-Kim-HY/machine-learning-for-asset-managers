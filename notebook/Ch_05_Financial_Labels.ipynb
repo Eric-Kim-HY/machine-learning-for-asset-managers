{
 "cells": [
  {
   "cell_type": "code",
   "execution_count": 15,
   "metadata": {},
   "outputs": [],
   "source": [
    "import numpy as np\n",
    "import statsmodels.api as sml\n",
    "import pandas as pd\n",
    "import matplotlib.pyplot as plt"
   ]
  },
  {
   "cell_type": "markdown",
   "metadata": {},
   "source": [
    "### Snippet 5.1 T-Value of a Linear Trend"
   ]
  },
  {
   "cell_type": "code",
   "execution_count": 12,
   "metadata": {},
   "outputs": [],
   "source": [
    "def tValLinR(close):\n",
    "    #tValue from a linear trend\n",
    "    \n",
    "    x = np.ones((close.shape[0], 2))\n",
    "    x[:, 1] = np.arange(close.shape[0])\n",
    "    ols = sml.OLS(close, x).fit()\n",
    "    return ols.tvalues[1]"
   ]
  },
  {
   "cell_type": "markdown",
   "metadata": {},
   "source": [
    "### Snippet 5.2 Implementation of The Trend-Scanning Method"
   ]
  },
  {
   "cell_type": "code",
   "execution_count": 13,
   "metadata": {},
   "outputs": [],
   "source": [
    "def getBinsFromTrend(molecule, close, span) :\n",
    "    \n",
    "    \n",
    "    \"\"\"\n",
    "    \n",
    "    INPUT\n",
    "    molecule : datetime index\n",
    "    close : series of close price\n",
    "    span : L value\n",
    "    \n",
    "    \n",
    "    OUTPUT\n",
    "    t1 : End time for the identified tread\n",
    "    tVal : t-value associated with the estimated trend coefficient\n",
    "    bin : Sign of the trend\n",
    "    \n",
    "    \"\"\"\n",
    "    \n",
    "    \n",
    "    out = pd.DataFrame(index = molecule, columns = ['t1','tVal','bin'])\n",
    "    \n",
    "    hrzns = range(*span) # large L\n",
    "    \n",
    "    for dt0 in molecule :\n",
    "        df0 = pd.Series()\n",
    "        iloc0 = close.index.get_loc(dt0)\n",
    "        if iloc0 + max(hrzns) > close.shape[0] :\n",
    "            continue\n",
    "        \n",
    "        for hrzn in hrzns :\n",
    "            dt1 = close.index[iloc0 + hrzn - 1]\n",
    "            df1 = close.loc[dt0:dt1]\n",
    "            df0.loc[dt1] = tValLinR(df1.values)\n",
    "            \n",
    "        dt1 = df0.replace([-np.inf, np.inf, np.nan], 0).abs().idxmax()\n",
    "        out.loc[dt0, ['t1','tVal','bin']] = df0.index[-1], df0[dt1], np.sign(df0[dt1])  #prevent leakage\n",
    "    \n",
    "    out['t1'] = pd.to_datetime(out['t1'])\n",
    "    out['bin'] = pd.to_numeric(out['bin'], downcast='signed')\n",
    "    \n",
    "    return out.dropna(subset=['bin'])\n",
    "\n"
   ]
  },
  {
   "cell_type": "markdown",
   "metadata": {},
   "source": [
    "### Snippet 5.3 Testing The Trend-Scanning Labeling Algorithm"
   ]
  },
  {
   "cell_type": "code",
   "execution_count": 19,
   "metadata": {},
   "outputs": [
    {
     "data": {
      "text/plain": [
       "<matplotlib.collections.PathCollection at 0x7fed37764860>"
      ]
     },
     "execution_count": 19,
     "metadata": {},
     "output_type": "execute_result"
    },
    {
     "data": {
      "image/png": "[encoded data removed]",
      "text/plain": [
       "<Figure size 432x288 with 1 Axes>"
      ]
     },
     "metadata": {
      "needs_background": "light"
     },
     "output_type": "display_data"
    }
   ],
   "source": [
    "df0 = pd.Series(np.random.normal(0, 0.1, 100)).cumsum()\n",
    "\n",
    "df0 += np.sin(np.linspace(0, 10, df0.shape[0]))\n",
    "\n",
    "df1 = getBinsFromTrend(df0.index, df0, [3,20,1])\n",
    "\n",
    "plt.scatter(df1.index, df0.loc[df1.index].values, c=df1['bin'].values, cmap='viridis')\n",
    "\n",
    "plt.savefig('fig5.1.png')\n",
    "\n",
    "plt.clf()\n",
    "plt.close()\n",
    "\n",
    "plt.scatter(df1.index, df0.loc[df1.index].values, c=df1['bin'].values, cmap = 'viridis')"
   ]
  }
 ],
 "metadata": {
  "kernelspec": {
   "display_name": "py364",
   "language": "python",
   "name": "py364"
  },
  "language_info": {
   "codemirror_mode": {
    "name": "ipython",
    "version": 3
   },
   "file_extension": ".py",
   "mimetype": "text/x-python",
   "name": "python",
   "nbconvert_exporter": "python",
   "pygments_lexer": "ipython3",
   "version": "3.6.4"
  }
 },
 "nbformat": 4,
 "nbformat_minor": 4
}
