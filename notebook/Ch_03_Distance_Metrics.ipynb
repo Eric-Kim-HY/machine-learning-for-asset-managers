{
 "cells": [
  {
   "cell_type": "markdown",
   "metadata": {},
   "source": [
    "# Machine Learning for Asset Managers"
   ]
  },
  {
   "cell_type": "markdown",
   "metadata": {},
   "source": [
    "##  Chapter 3 Distance Metrics"
   ]
  },
  {
   "cell_type": "markdown",
   "metadata": {},
   "source": [
    "### Snippet 3.1 Marginal, Joint, Conditional Entropies, and Mutual Information"
   ]
  },
  {
   "cell_type": "code",
   "execution_count": 1,
   "metadata": {},
   "outputs": [],
   "source": [
    "import numpy as np\n",
    "import scipy.stats as ss\n",
    "from sklearn.metrics import mutual_info_score"
   ]
  },
  {
   "cell_type": "code",
   "execution_count": 2,
   "metadata": {},
   "outputs": [],
   "source": [
    "# Define a variable in CH 02\n",
    "x = np.random.normal(loc = 0, scale = 1, size =1000)\n",
    "y = np.array(range(1000))/500\n",
    "bins = 100\n",
    "\n",
    "cXY = np.histogram2d(x, y, bins)[0]\n",
    "hX = ss.entropy(np.histogram(x, bins)[0])  # Marginal\n",
    "hY = ss.entropy(np.histogram(y, bins)[0])  # Marginal\n",
    "\n",
    "iXY = mutual_info_score(labels_true = None, labels_pred = None, contingency =cXY)\n",
    "iXYn = iXY / min(hX, hY) #normalized mutual information\n",
    "\n",
    "hXY = hX + hY - iXY # joint\n",
    "hX_Y = hXY - hY # conditional\n",
    "hY_X = hXY - hX # conditional"
   ]
  },
  {
   "cell_type": "code",
   "execution_count": 3,
   "metadata": {},
   "outputs": [
    {
     "name": "stdout",
     "output_type": "stream",
     "text": [
      " Entropy of X H[X] : 4.132201899159121 \n",
      " Entropy of X H[Y] : 4.60517018598809 \n",
      "\n",
      " Mutual Information Score : 1.948341975144378 \n",
      " Normalized Mutual Info Score : 0.47150212470035757 \n",
      "\n",
      " Joint Entropy H[X,Y] : 6.789030110002833 \n",
      " Conditional Entropy H[X|Y] : 2.183859924014743 \n",
      " Conditional Entropy H[Y|X] : 2.6568282108437122 \n",
      "\n"
     ]
    }
   ],
   "source": [
    "print(' Entropy of X H[X] :', hX , '\\n',\n",
    "     'Entropy of X H[Y] :', hY , '\\n\\n',\n",
    "     'Mutual Information Score :', iXY , '\\n',\n",
    "     'Normalized Mutual Info Score :', iXYn , '\\n\\n',\n",
    "     'Joint Entropy H[X,Y] :', hXY , '\\n',\n",
    "     'Conditional Entropy H[X|Y] :', hX_Y , '\\n',\n",
    "     'Conditional Entropy H[Y|X] :', hY_X , '\\n')"
   ]
  },
  {
   "cell_type": "markdown",
   "metadata": {},
   "source": [
    "### Snippet 3.2 Mutual Information, Variation of Information, and Normalized Variation of Information"
   ]
  },
  {
   "cell_type": "code",
   "execution_count": 4,
   "metadata": {},
   "outputs": [],
   "source": [
    "def varInfo(x, y, bins, norm=False):\n",
    "    # Variation of Information\n",
    "    cXY = np.histogram2d(x, y, bins)[0]\n",
    "    iXY = mutual_info_score(None, None, contingency = cXY)\n",
    "    \n",
    "    hX = ss.entropy(np.histogram(x, bins)[0]) # Marginal\n",
    "    hY = ss.entropy(np.histogram(y, bins)[0]) # Marginal\n",
    "    vXY = hX + hY - 2 * iXY # Variation of Information\n",
    "    \n",
    "    if norm :\n",
    "        hXY = hX + hY - iXY # Joint\n",
    "        vXY /= hXY # Normalized Variation of Information\n",
    "        \n",
    "    return vXY"
   ]
  },
  {
   "cell_type": "markdown",
   "metadata": {},
   "source": [
    "#### Excercise"
   ]
  },
  {
   "cell_type": "code",
   "execution_count": 5,
   "metadata": {},
   "outputs": [
    {
     "name": "stdout",
     "output_type": "stream",
     "text": [
      " Variation of Information VI[X,Y] :  4.886568722711736 \n",
      " Variation of Information normalized :  0.7190925726761164\n"
     ]
    }
   ],
   "source": [
    "x = np.random.normal(loc = 0, scale = 1, size =1000)\n",
    "y = np.array(range(1000))/500\n",
    "bins = 100\n",
    "\n",
    "vXY = varInfo(x=x, y=y, bins=bins, norm=False)\n",
    "vXY_n = varInfo(x=x, y=y, bins=bins, norm=True)\n",
    "\n",
    "print(\" Variation of Information VI[X,Y] : \", vXY, \"\\n\",\n",
    "      \"Variation of Information normalized : \", vXY_n)"
   ]
  },
  {
   "cell_type": "markdown",
   "metadata": {},
   "source": [
    "### Snippet 3.3 Varation of Information on Discretized Continuous Random Variables"
   ]
  },
  {
   "cell_type": "code",
   "execution_count": 6,
   "metadata": {},
   "outputs": [],
   "source": [
    "def numBins(nObs, corr=None):\n",
    "    # Optimal number of bins for discretization\n",
    "    if corr is None : # univariate case\n",
    "        z = (8 + 324*nObs + 12*(36*nObs + 729*nObs**2)**0.5)**(1/3)\n",
    "        b = round(z/6 + 2/(3*z) + 1/3)\n",
    "    else : # bivariate case\n",
    "        b = round(2**(-0.5) * (1 + (1 + 24*nObs/(1 - corr**2))**0.5)**0.5)\n",
    "    \n",
    "    return int(b)\n",
    "        \n",
    "\n",
    "def varInfo(x, y, norm=False) :\n",
    "    # Variation of Information\n",
    "    bXY = numBins(x.shape[0], corr = np.corrcoef(x,y)[0,1])\n",
    "    cXY = np.histogram2d(x, y, bXY)[0]\n",
    "    iXY = mutual_info_score(None, None, contingency = cXY)\n",
    "    \n",
    "    hX = ss.entropy(np.histogram(x,bXY)[0])  # Marginal\n",
    "    hY = ss.entropy(np.histogram(y,bXY)[0])  # Marginal\n",
    "    vXY = hX + hY - 2*iXY # Variation of Information\n",
    "    \n",
    "    if norm :\n",
    "        hXY = hX + hY - iXY # Joint\n",
    "        vXY /= hXY # Normalized Variation of Information\n",
    "    \n",
    "    return vXY"
   ]
  },
  {
   "cell_type": "markdown",
   "metadata": {},
   "source": [
    "#### Excercise"
   ]
  },
  {
   "cell_type": "code",
   "execution_count": 7,
   "metadata": {},
   "outputs": [
    {
     "name": "stdout",
     "output_type": "stream",
     "text": [
      " Variation of Information VI[X,Y] :  3.770764447635337 \n",
      " Variation of Information normalized :  0.9911582184462324\n"
     ]
    }
   ],
   "source": [
    "x = np.random.normal(loc = 0, scale = 1, size =1000)\n",
    "y = np.array(range(1000))/500\n",
    "\n",
    "vXY = varInfo(x=x, y=y, norm=False)\n",
    "vXY_n = varInfo(x=x, y=y, norm=True)\n",
    "\n",
    "print(\" Variation of Information VI[X,Y] : \", vXY, \"\\n\",\n",
    "      \"Variation of Information normalized : \", vXY_n)"
   ]
  },
  {
   "cell_type": "markdown",
   "metadata": {},
   "source": [
    "### Snippet 3.4 Correlation and Normalized Mutual Information of Two Independent Gaussian Random Variables"
   ]
  },
  {
   "cell_type": "code",
   "execution_count": 8,
   "metadata": {},
   "outputs": [],
   "source": [
    "def mutualInfo(x, y, norm=False):\n",
    "    # Mutual Information\n",
    "    bXY = numBins(x.shape[0], corr=np.corrcoef(x,y)[0,1])\n",
    "    cXY = np.histogram2d(x, y, bXY)[0]\n",
    "    iXY = mutual_info_score(None, None, contingency=cXY)\n",
    "    \n",
    "    if norm :\n",
    "        hX = ss.entropy(np.histogram(x, bXY)[0]) # Marginal\n",
    "        hY = ss.entropy(np.histogram(y, bXY)[0]) # Marginal\n",
    "        iXY /= min(hX, hY) # Normalized mutual information\n",
    "    return iXY"
   ]
  },
  {
   "cell_type": "markdown",
   "metadata": {},
   "source": [
    "### Exercise"
   ]
  },
  {
   "cell_type": "code",
   "execution_count": 9,
   "metadata": {},
   "outputs": [
    {
     "name": "stdout",
     "output_type": "stream",
     "text": [
      "Normalized Mutual Info :  0.006764619108279091\n",
      "Correlation :  0.001496837406727644\n"
     ]
    }
   ],
   "source": [
    "size = 5000\n",
    "seed = 0\n",
    "\n",
    "np.random.seed(seed)\n",
    "x = np.random.normal(size = size)\n",
    "e = np.random.normal(size = size)\n",
    "\n",
    "y = 0 * x + e\n",
    "\n",
    "nmi = mutualInfo(x, y, True)\n",
    "corr = np.corrcoef(x,y)[0,1]\n",
    "                   \n",
    "print(\"Normalized Mutual Info : \", nmi)\n",
    "print(\"Correlation : \", corr)"
   ]
  },
  {
   "cell_type": "markdown",
   "metadata": {},
   "source": [
    "### Graphs"
   ]
  },
  {
   "cell_type": "markdown",
   "metadata": {},
   "source": [
    "#### Figure 3.2 Scatterplot of two independent Gaussian random variables"
   ]
  },
  {
   "cell_type": "code",
   "execution_count": 10,
   "metadata": {},
   "outputs": [
    {
     "data": {
      "text/plain": [
       "<Figure size 1000x700 with 1 Axes>"
      ]
     },
     "metadata": {},
     "output_type": "display_data"
    }
   ],
   "source": [
    "import matplotlib.pyplot as plt\n",
    "\n",
    "size = 5000\n",
    "seed = 0\n",
    "\n",
    "np.random.seed(seed)\n",
    "x = np.random.normal(size = size)\n",
    "e = np.random.normal(size = size)\n",
    "\n",
    "y = 0 * x + e\n",
    "\n",
    "\n",
    "nmi = mutualInfo(x, y, True)\n",
    "corr = np.corrcoef(x,y)[0,1]\n",
    "\n",
    "\n",
    "fig, ax = plt.subplots(figsize=(10,7))\n",
    "\n",
    "ax.scatter(x, y)\n",
    "ax.set_title('$y=0x+\\epsilon$\\n', fontsize = 15)\n",
    "plt.figtext(0.15, 0.85, \"corr={0:.4f}\".format(corr), fontsize = 13)\n",
    "plt.figtext(0.15, 0.82, \"nmi={0:.4f}\".format(nmi), fontsize = 13)\n",
    "plt.show()"
   ]
  },
  {
   "cell_type": "markdown",
   "metadata": {},
   "source": [
    "#### Figure 3.3 Scatterplot of two Gaussian random variables with a linear relationship"
   ]
  },
  {
   "cell_type": "code",
   "execution_count": 11,
   "metadata": {},
   "outputs": [
    {
     "data": {
      "image/png": "[encoded data removed]",
      "text/plain": [
       "<Figure size 720x504 with 1 Axes>"
      ]
     },
     "metadata": {
      "needs_background": "light"
     },
     "output_type": "display_data"
    }
   ],
   "source": [
    "import matplotlib.pyplot as plt\n",
    "\n",
    "size = 5000\n",
    "seed = 0\n",
    "\n",
    "np.random.seed(seed)\n",
    "x = np.random.normal(size = size)\n",
    "e = np.random.normal(size = size)\n",
    "\n",
    "y = 100 * x + e\n",
    "\n",
    "\n",
    "nmi = mutualInfo(x, y, True)\n",
    "corr = np.corrcoef(x,y)[0,1]\n",
    "\n",
    "\n",
    "fig, ax = plt.subplots(figsize=(10,7))\n",
    "\n",
    "ax.scatter(x, y)\n",
    "ax.set_title('$y=100x+\\epsilon$\\n', fontsize = 15)\n",
    "plt.figtext(0.15, 0.85, \"corr={0:.4f}\".format(corr), fontsize = 13)\n",
    "plt.figtext(0.15, 0.82, \"nmi={0:.4f}\".format(nmi), fontsize = 13)\n",
    "plt.show()"
   ]
  },
  {
   "cell_type": "markdown",
   "metadata": {},
   "source": [
    "#### Figure 3.4 Scatterplot of two Gaussian random variables with a nonlinear relationship"
   ]
  },
  {
   "cell_type": "code",
   "execution_count": 12,
   "metadata": {},
   "outputs": [
    {
     "data": {
      "image/png": "[encoded data removed]",
      "text/plain": [
       "<Figure size 720x504 with 1 Axes>"
      ]
     },
     "metadata": {
      "needs_background": "light"
     },
     "output_type": "display_data"
    }
   ],
   "source": [
    "import matplotlib.pyplot as plt\n",
    "\n",
    "size = 5000\n",
    "seed = 0\n",
    "\n",
    "np.random.seed(seed)\n",
    "x = np.random.normal(size = size)\n",
    "e = np.random.normal(size = size)\n",
    "\n",
    "y = 100 * np.abs(x) + e\n",
    "\n",
    "\n",
    "nmi = mutualInfo(x, y, True)\n",
    "corr = np.corrcoef(x,y)[0,1]\n",
    "\n",
    "\n",
    "fig, ax = plt.subplots(figsize=(10,7))\n",
    "\n",
    "ax.scatter(x, y)\n",
    "ax.set_title('$y=100|x|+\\epsilon$\\n', fontsize = 15)\n",
    "plt.figtext(0.2, 0.85, \"corr={0:.4f}\".format(corr), fontsize = 13)\n",
    "plt.figtext(0.2, 0.82, \"nmi={0:.4f}\".format(nmi), fontsize = 13)\n",
    "plt.show()"
   ]
  }
 ],
 "metadata": {
  "kernelspec": {
   "display_name": "py364",
   "language": "python",
   "name": "py364"
  },
  "language_info": {
   "codemirror_mode": {
    "name": "ipython",
    "version": 3
   },
   "file_extension": ".py",
   "mimetype": "text/x-python",
   "name": "python",
   "nbconvert_exporter": "python",
   "pygments_lexer": "ipython3",
   "version": "3.6.4"
  }
 },
 "nbformat": 4,
 "nbformat_minor": 4
}
