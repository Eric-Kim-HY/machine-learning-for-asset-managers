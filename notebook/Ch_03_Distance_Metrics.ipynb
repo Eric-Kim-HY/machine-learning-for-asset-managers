{
 "cells": [
  {
   "cell_type": "markdown",
   "metadata": {},
   "source": [
    "# Machine Learning for Asset Managers"
   ]
  },
  {
   "cell_type": "markdown",
   "metadata": {},
   "source": [
    "##  Chapter 3 Distance Metrics"
   ]
  },
  {
   "cell_type": "markdown",
   "metadata": {},
   "source": [
    "### Snippet 3.1 Marginal, Joint, Conditional Entropies, and Mutual Information"
   ]
  },
  {
   "cell_type": "code",
   "execution_count": 2,
   "metadata": {},
   "outputs": [],
   "source": [
    "import numpy as np\n",
    "import scipy.stats as ss\n",
    "from sklearn.metrics import mutual_info_score"
   ]
  },
  {
   "cell_type": "code",
   "execution_count": 51,
   "metadata": {},
   "outputs": [],
   "source": [
    "# Define a variable in CH 02\n",
    "x = np.random.normal(loc = 0, scale = 1, size =1000)\n",
    "y = np.array(range(1000))/500\n",
    "bins = 100\n",
    "\n",
    "cXY = np.histogram2d(x, y, bins)[0]\n",
    "hX = ss.entropy(np.histogram(x, bins)[0])  # Marginal\n",
    "hY = ss.entropy(np.histogram(y, bins)[0])  # Marginal\n",
    "\n",
    "iXY = mutual_info_score(labels_true = None, labels_pred = None, contingency =cXY)\n",
    "iXYn = iXY / min(hX, hY) #normalized mutual information\n",
    "\n",
    "hXY = hX + hY - iXY # joint\n",
    "hX_Y = hXY - hY # conditional\n",
    "hY_X = hXY - hX # conditional"
   ]
  },
  {
   "cell_type": "code",
   "execution_count": 52,
   "metadata": {},
   "outputs": [
    {
     "name": "stdout",
     "output_type": "stream",
     "text": [
      " Entropy of X H[X] : 4.025133034713154 \n",
      " Entropy of X H[Y] : 4.60517018598809 \n",
      "\n",
      " Mutual Information Score : 1.833111692535109 \n",
      " Normalized Mutual Info Score : 0.4554164239358472 \n",
      "\n",
      " Joint Entropy H[X,Y] : 6.797191528166135 \n",
      " Conditional Entropy H[X|Y] : 2.1920213421780446 \n",
      " Conditional Entropy H[Y|X] : 2.77205849345298 \n",
      "\n"
     ]
    }
   ],
   "source": [
    "print(' Entropy of X H[X] :', hX , '\\n',\n",
    "     'Entropy of X H[Y] :', hY , '\\n\\n',\n",
    "     'Mutual Information Score :', iXY , '\\n',\n",
    "     'Normalized Mutual Info Score :', iXYn , '\\n\\n',\n",
    "     'Joint Entropy H[X,Y] :', hXY , '\\n',\n",
    "     'Conditional Entropy H[X|Y] :', hX_Y , '\\n',\n",
    "     'Conditional Entropy H[Y|X] :', hY_X , '\\n')"
   ]
  },
  {
   "cell_type": "code",
   "execution_count": null,
   "metadata": {},
   "outputs": [],
   "source": []
  }
 ],
 "metadata": {
  "kernelspec": {
   "display_name": "py364",
   "language": "python",
   "name": "py364"
  },
  "language_info": {
   "codemirror_mode": {
    "name": "ipython",
    "version": 3
   },
   "file_extension": ".py",
   "mimetype": "text/x-python",
   "name": "python",
   "nbconvert_exporter": "python",
   "pygments_lexer": "ipython3",
   "version": "3.6.4"
  }
 },
 "nbformat": 4,
 "nbformat_minor": 4
}
